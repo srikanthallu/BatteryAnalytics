{
 "cells": [
  {
   "cell_type": "markdown",
   "metadata": {},
   "source": [
    "# Imports"
   ]
  },
  {
   "cell_type": "code",
   "execution_count": null,
   "metadata": {},
   "outputs": [],
   "source": [
    "import os\n",
    "\n",
    "import numpy as np\n",
    "import matplotlib as mpl\n",
    "from matplotlib import pyplot as plt\n",
    "import pandas as pd\n",
    "import scipy.signal\n",
    "\n",
    "from IPython.core.display import display, HTML"
   ]
  },
  {
   "cell_type": "markdown",
   "metadata": {},
   "source": [
    "# Parameters"
   ]
  },
  {
   "cell_type": "code",
   "execution_count": null,
   "metadata": {},
   "outputs": [],
   "source": [
    "raw_dirname = \"../data\"\n",
    "raw_basename = \"raw_mechanical_loading_data.csv.gz\"\n",
    "\n",
    "results_dirname = \"../data\"\n",
    "results_basename = \"mechanical_loading_data.csv.gz\"\n",
    "\n",
    "delta = 0.1\n",
    "derivative_orders = [1]"
   ]
  },
  {
   "cell_type": "markdown",
   "metadata": {},
   "source": [
    "# Function Definitions"
   ]
  },
  {
   "cell_type": "code",
   "execution_count": null,
   "metadata": {},
   "outputs": [],
   "source": [
    "def get_unique(items):\n",
    "    seen = set()\n",
    "    unique = list()\n",
    "    for item in items:\n",
    "        if item not in seen:\n",
    "            unique.append(item)\n",
    "            seen.add(item)\n",
    "    return unique"
   ]
  },
  {
   "cell_type": "markdown",
   "metadata": {},
   "source": [
    "# Data Loading"
   ]
  },
  {
   "cell_type": "code",
   "execution_count": null,
   "metadata": {
    "scrolled": false
   },
   "outputs": [],
   "source": [
    "filename = os.path.join(raw_dirname, raw_basename)\n",
    "raw_df = pd.read_csv(filename, header=[0,1,2], index_col=0, compression=\"gzip\")\n",
    "raw_df.info(verbose=True)\n",
    "with pd.option_context(\"display.max_rows\", 10, \"display.max_columns\", None):\n",
    "    display(raw_df)\n",
    "    display(raw_df.describe())"
   ]
  },
  {
   "cell_type": "markdown",
   "metadata": {},
   "source": [
    "# Data Processing"
   ]
  },
  {
   "cell_type": "markdown",
   "metadata": {},
   "source": [
    "## Missing Values"
   ]
  },
  {
   "cell_type": "code",
   "execution_count": null,
   "metadata": {
    "scrolled": false
   },
   "outputs": [],
   "source": [
    "data_df = raw_df.reindex(\n",
    "    np.arange(raw_df.index.min(), raw_df.index.max()+delta, delta),\n",
    "    method=\"nearest\",\n",
    "    tolerance=0.01\n",
    ")\n",
    "data_df.interpolate(method=\"linear\", axis=\"index\", inplace=True, limit_area=\"inside\")\n",
    "\n",
    "data_df.info(verbose=True)\n",
    "with pd.option_context(\"display.max_rows\", 10, \"display.max_columns\", None):\n",
    "    display(data_df)\n",
    "    display(data_df.describe())"
   ]
  },
  {
   "cell_type": "markdown",
   "metadata": {},
   "source": [
    "## Feature Engineering"
   ]
  },
  {
   "cell_type": "code",
   "execution_count": null,
   "metadata": {
    "scrolled": false
   },
   "outputs": [],
   "source": [
    "level0 = get_unique(data_df.columns.get_level_values(0))\n",
    "level1 = get_unique(data_df.columns.get_level_values(1))\n",
    "level2 = get_unique(data_df.columns.get_level_values(2))\n",
    "print(\", \".join(level0))\n",
    "print(\", \".join(level1))\n",
    "print(\", \".join(level2))\n",
    "\n",
    "column_order = list()\n",
    "for c0 in level0:\n",
    "    for c1 in level1:\n",
    "        column_order.extend([\n",
    "            (c0,c1,c2)\n",
    "            for c2 in level2\n",
    "        ])\n",
    "        for order in derivative_orders:\n",
    "            for c2 in level2:\n",
    "                new_column = (c0,c1,\"{} (gradient {})\".format(c2,order))\n",
    "                column_order.append(new_column)\n",
    "                values = data_df[(c0,c1,c2)]\n",
    "                for ii in range(order):\n",
    "                    values = np.gradient(\n",
    "                        values,\n",
    "                        delta\n",
    "                    )\n",
    "                data_df[new_column] = values\n",
    "            \n",
    "            for c2 in level2:\n",
    "                new_column = (c0,c1,\"{} (savgol {})\".format(c2,order))\n",
    "                column_order.append(new_column)\n",
    "                data_df[new_column] = scipy.signal.savgol_filter(\n",
    "                    data_df[(c0,c1,c2)],\n",
    "                    window_length=99,\n",
    "                    polyorder=2,\n",
    "                    deriv=order,\n",
    "                    delta=delta\n",
    "                )\n",
    "data_df = data_df[column_order]\n",
    "\n",
    "# data_df.info(verbose=True)\n",
    "with pd.option_context(\"display.max_rows\", 10, \"display.max_columns\", None):\n",
    "    display(data_df)"
   ]
  },
  {
   "cell_type": "markdown",
   "metadata": {},
   "source": [
    "# Plots"
   ]
  },
  {
   "cell_type": "code",
   "execution_count": null,
   "metadata": {
    "scrolled": false
   },
   "outputs": [],
   "source": [
    "level0 = get_unique(data_df.columns.get_level_values(0))\n",
    "level1 = get_unique(data_df.columns.get_level_values(1))\n",
    "level2 = get_unique(data_df.columns.get_level_values(2))\n",
    "\n",
    "for c0 in level0:\n",
    "    display(HTML(f\"<h1>{c0}</h1>\"))\n",
    "    \n",
    "    for c1 in level1:\n",
    "        display(HTML(f\"<h2>{c1}</h2>\"))\n",
    "        \n",
    "        n_cols = 3\n",
    "        n_rows = int(np.ceil(len(level2)/n_cols))\n",
    "#         fig = plt.figure(constrained_layout=True, figsize=(n_cols*8,5*n_rows))\n",
    "        fig = plt.figure(constrained_layout=True, figsize=(8*n_cols,5*n_rows))\n",
    "        gs = mpl.gridspec.GridSpec(\n",
    "            nrows=n_rows,\n",
    "            ncols=n_cols,\n",
    "            figure=fig\n",
    "        )\n",
    "        for ii,c2 in enumerate(level2):\n",
    "            ax = fig.add_subplot(gs[ii])\n",
    "            ax.plot(data_df[(c0,c1,c2)], zorder=1)\n",
    "            ax.set_title(c2)\n",
    "            ax.set_xlabel(\"Time\")\n",
    "        fig.suptitle(\"{}, {}\".format(c0,c1))\n",
    "        plt.show()\n",
    "    break"
   ]
  },
  {
   "cell_type": "markdown",
   "metadata": {},
   "source": [
    "# Save Data"
   ]
  },
  {
   "cell_type": "code",
   "execution_count": null,
   "metadata": {
    "scrolled": false
   },
   "outputs": [],
   "source": [
    "filename = os.path.join(results_dirname, results_basename)\n",
    "print(filename)\n",
    "data_df.to_csv(filename, compression=\"gzip\")"
   ]
  }
 ],
 "metadata": {
  "kernelspec": {
   "display_name": "Python 3 (ipykernel)",
   "language": "python",
   "name": "python3"
  },
  "language_info": {
   "codemirror_mode": {
    "name": "ipython",
    "version": 3
   },
   "file_extension": ".py",
   "mimetype": "text/x-python",
   "name": "python",
   "nbconvert_exporter": "python",
   "pygments_lexer": "ipython3",
   "version": "3.8.12"
  }
 },
 "nbformat": 4,
 "nbformat_minor": 4
}
